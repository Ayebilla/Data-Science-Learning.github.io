{
 "cells": [
  {
   "cell_type": "code",
   "execution_count": 2,
   "metadata": {},
   "outputs": [],
   "source": [
    "import os\n",
    "import sys\n",
    "from tweepy import API\n",
    "from tweepy import OAuthHandler\n",
    "from tweepy import Cursor\n",
    "import json\n",
    "from collections import Counter\n",
    "import math\n",
    "import time\n",
    "import pandas as pd\n",
    "import csv\n",
    "import numpy as np\n",
    "from functools import reduce\n",
    "import matplotlib.pyplot as plt\n",
    "import seaborn as sns\n",
    "sns.set()\n",
    "from sklearn.cluster import KMeans"
   ]
  },
  {
   "cell_type": "code",
   "execution_count": 5,
   "metadata": {},
   "outputs": [],
   "source": [
    "def getTwitterOAuth():\n",
    "    consumer_key = ''\n",
    "    consumer_secret = ''\n",
    "    access_token = ''\n",
    "    access_token_secret = ''\n",
    "    auth = OAuthHandler(consumer_key, consumer_secret)\n",
    "    auth.set_access_token(access_token,access_token_secret)\n",
    "    return auth\n",
    "\n",
    "def TwitterClient():\n",
    "    auth = getTwitterOAuth()\n",
    "    client = API(auth)\n",
    "    return client\n",
    "\n",
    "#global variables\n",
    "MAX_FRIENDS = 15000\n",
    "max_pages = math.ceil(MAX_FRIENDS/5000)\n",
    "        "
   ]
  },
  {
   "cell_type": "code",
   "execution_count": 6,
   "metadata": {},
   "outputs": [],
   "source": [
    "def paginate(items,n):\n",
    "    for i in range(0, len(items),n):\n",
    "        yield items[i:i+n] "
   ]
  },
  {
   "cell_type": "code",
   "execution_count": 7,
   "metadata": {},
   "outputs": [],
   "source": [
    "usrSet = set()\n",
    "usrSet2 = set()\n"
   ]
  },
  {
   "cell_type": "code",
   "execution_count": 8,
   "metadata": {},
   "outputs": [],
   "source": [
    "# user friends\n",
    "usrset3 = set()\n",
    "\n",
    "def userFriends(user=\"AvokaAyebilla\"):\n",
    "    client = TwitterClient()\n",
    "    fname = \"{}_friends.jsonl\".format(user)\n",
    "    with open(fname, 'w') as f:\n",
    "        for friends in Cursor(client.friends_ids,screen_name=user).pages(max_pages):\n",
    "            for chunk in paginate(friends, 100):\n",
    "                users = client.lookup_users(user_ids=chunk)\n",
    "                for usr in users:\n",
    "                    if usr.location =='Ghana':\n",
    "                        usrset3.add(usr.screen_name)\n",
    "                        f.write(json.dumps(usr._json)+\"\\n\")\n",
    "            if len(friends) == 300:\n",
    "                print(\"More results available. Sleeping for 1 minute to avoid rate limit..\")\n",
    "                time.sleep(120)\n",
    "    #return usrSet2"
   ]
  },
  {
   "cell_type": "code",
   "execution_count": 9,
   "metadata": {},
   "outputs": [],
   "source": [
    "def getUserTweets(user='AvokaAyebilla'):\n",
    "    client = TwitterClient()\n",
    "    fname = \"user_timeline_{}.jsonl\".format(user)\n",
    "    with open(fname, 'w') as f:\n",
    "        for page in Cursor(client.user_timeline, screen_name=user,count=200).pages(2):\n",
    "            for status in page:\n",
    "                f.write(json.dumps(status._json) + \"\\n\")\n",
    "\n",
    "\n",
    "def getHashtags(tweet):\n",
    "    entities = tweet.get('entities',{})\n",
    "    hashtags = entities.get('hashtags',[])\n",
    "    return [tag['text'].lower() for tag in hashtags]\n",
    "def tags(user='AvokaAyebilla', dictTags = {}): #dicTags is a dictionary containing the keywords as keys and \n",
    "                                                #the hashtags of interest as a list of values\n",
    "    stats = {'economy': 0, 'social':0, 'culture': 0,'health':0}\n",
    "    labels = ['economy','social','culture','health']                                                          #set all feature count to zeros.\n",
    "    fname = \"user_timeline_{}.jsonl\".format(user)\n",
    "    with open(fname, 'r') as f:\n",
    "        hashtags = [] #Counter()\n",
    "        for line in f:\n",
    "            tweet = json.loads(line)\n",
    "            tags_in_tweet = getHashtags(tweet)\n",
    "            if len(tags_in_tweet)>0:\n",
    "                hashtags.append(tags_in_tweet)\n",
    "        for tag in hashtags:\n",
    "            for tt in tag:\n",
    "                for key in labels:\n",
    "                    if tt in dictTags[key]:\n",
    "                        stats[key] =stats[key] + 1 \n",
    "    #print(hashtags)\n",
    "    return {user: list(stats.values())}\n",
    "                    "
   ]
  },
  {
   "cell_type": "markdown",
   "metadata": {},
   "source": [
    "\n",
    "Following are list of some identified top Ghanaians in different industries \n",
    "identified. Their twitter handles were obtained by searching their names on twitter\n",
    "We then get their friends and add it to form the top 1000 Ghanaians on twitter.\n",
    "Repeaton was disallowed by using the python set.\n"
   ]
  },
  {
   "cell_type": "code",
   "execution_count": 10,
   "metadata": {},
   "outputs": [],
   "source": [
    "\n",
    "uList = []\n",
    "htags = {'economy': ['yearofreturn','ghanaianbusiness','localbusiness',\n",
    "                     'ghanabeyondaid','2020budgetreview',\n",
    "                     'sdgs','beyondthelockdown','farmersdayghana'], \n",
    "         'social':['ghtourism','ghweddings','imwithher','tadigirls',\n",
    "                   'justiceforgeorgefloyd','girlchildeducation',\n",
    "                   'lutterodt','hushpuppi','ugandavsghana'], \n",
    "         'culture': ['independenceday','ghanamostbeautiful','ghana',\n",
    "                     'saynotocorruption', 'goodmorningremix','gmb2020',\n",
    "                     'nsmq','registertovote2020', 'mokobe'],\n",
    "         'health':['stayhome','socialdistancing','spreadcalmnotfear',\n",
    "                   'ghanacovid19','wearyourmask','covid19','ghhealth',\n",
    "                   'globalhealth','staysafe']}\n",
    "\n",
    "with open('Top_ghanaians_usrs.csv', 'rt') as f:\n",
    "        f.readline()\n",
    "        csv_reader = csv.reader(f)\n",
    "        for line in csv_reader:\n",
    "            if os.path.exists(\"user_timeline_{}.jsonl\".format(line[0])):\n",
    "                try:\n",
    "                    uList.append(tags(line[0], htags))\n",
    "                except Exception as e:\n",
    "                    print( \"Error while getting hashtags for  {}\".format(line[0]))\n",
    "                    print(e)\n",
    "                \n",
    "\n",
    "'''Output from calling the tags function is a dictionary with the user specified as the key and the \n",
    "four parameters as the a list value. In order to call this function manytimes for the many users we have,\n",
    "use a list or a dictionary to record every return of the function. In this case, a list is used. Manipulate this \n",
    "list of dictionary to get the output into a list for easy conversion to a pandas dataframe. You can do it\n",
    "differently but here how I did it with the functions below. note that, this written with the assumption that\n",
    "the data exist on your disk. If you don't have the data, you will first run the getUserTweets() method to \n",
    "download the timelines of the users you need. \n",
    "'''\n",
    "#prepare a data frame\n",
    "def get_dictkeys(listdic):\n",
    "    return list(listdic.keys())\n",
    "\n",
    "#returns the values of the dictionary as a list\n",
    "def get_dictvals(listdic):\n",
    "     return list(listdic.values())\n",
    "\n",
    "def dataframe():\n",
    "    keysList = []\n",
    "    valList = []\n",
    "    data = []\n",
    "    fkeyList = []\n",
    "    for item in uList:\n",
    "        keysList.append(get_dictkeys(item))\n",
    "        valList.append(get_dictvals(item))\n",
    "    for it in valList:\n",
    "        data.append(it[0])\n",
    "    for n in keysList:\n",
    "        fkeyList.append(n[0])  \n",
    "    df = pd.DataFrame(data, columns = [\"economy\", \"social\",\"culture\",\"health\"])\n",
    "    df.insert(0,'user',fkeyList)\n",
    "    return df\n"
   ]
  },
  {
   "cell_type": "code",
   "execution_count": 216,
   "metadata": {},
   "outputs": [
    {
     "data": {
      "text/html": [
       "<div>\n",
       "<style scoped>\n",
       "    .dataframe tbody tr th:only-of-type {\n",
       "        vertical-align: middle;\n",
       "    }\n",
       "\n",
       "    .dataframe tbody tr th {\n",
       "        vertical-align: top;\n",
       "    }\n",
       "\n",
       "    .dataframe thead th {\n",
       "        text-align: right;\n",
       "    }\n",
       "</style>\n",
       "<table border=\"1\" class=\"dataframe\">\n",
       "  <thead>\n",
       "    <tr style=\"text-align: right;\">\n",
       "      <th></th>\n",
       "      <th>user</th>\n",
       "      <th>economy</th>\n",
       "      <th>social</th>\n",
       "      <th>culture</th>\n",
       "      <th>health</th>\n",
       "    </tr>\n",
       "  </thead>\n",
       "  <tbody>\n",
       "    <tr>\n",
       "      <th>0</th>\n",
       "      <td>sambahflex</td>\n",
       "      <td>0</td>\n",
       "      <td>0</td>\n",
       "      <td>1</td>\n",
       "      <td>0</td>\n",
       "    </tr>\n",
       "    <tr>\n",
       "      <th>1</th>\n",
       "      <td>CoOwusu</td>\n",
       "      <td>0</td>\n",
       "      <td>0</td>\n",
       "      <td>0</td>\n",
       "      <td>0</td>\n",
       "    </tr>\n",
       "    <tr>\n",
       "      <th>2</th>\n",
       "      <td>AshesiIX</td>\n",
       "      <td>0</td>\n",
       "      <td>0</td>\n",
       "      <td>0</td>\n",
       "      <td>0</td>\n",
       "    </tr>\n",
       "    <tr>\n",
       "      <th>3</th>\n",
       "      <td>askrashida</td>\n",
       "      <td>0</td>\n",
       "      <td>0</td>\n",
       "      <td>0</td>\n",
       "      <td>0</td>\n",
       "    </tr>\n",
       "    <tr>\n",
       "      <th>4</th>\n",
       "      <td>Ghanasoccernet</td>\n",
       "      <td>0</td>\n",
       "      <td>0</td>\n",
       "      <td>0</td>\n",
       "      <td>0</td>\n",
       "    </tr>\n",
       "    <tr>\n",
       "      <th>5</th>\n",
       "      <td>TransformingGh</td>\n",
       "      <td>0</td>\n",
       "      <td>0</td>\n",
       "      <td>29</td>\n",
       "      <td>0</td>\n",
       "    </tr>\n",
       "    <tr>\n",
       "      <th>6</th>\n",
       "      <td>KelOwusu</td>\n",
       "      <td>0</td>\n",
       "      <td>0</td>\n",
       "      <td>8</td>\n",
       "      <td>6</td>\n",
       "    </tr>\n",
       "    <tr>\n",
       "      <th>7</th>\n",
       "      <td>fellowblackman</td>\n",
       "      <td>0</td>\n",
       "      <td>0</td>\n",
       "      <td>2</td>\n",
       "      <td>0</td>\n",
       "    </tr>\n",
       "    <tr>\n",
       "      <th>8</th>\n",
       "      <td>kkdbod</td>\n",
       "      <td>1</td>\n",
       "      <td>0</td>\n",
       "      <td>2</td>\n",
       "      <td>1</td>\n",
       "    </tr>\n",
       "    <tr>\n",
       "      <th>9</th>\n",
       "      <td>talentshype</td>\n",
       "      <td>0</td>\n",
       "      <td>0</td>\n",
       "      <td>0</td>\n",
       "      <td>0</td>\n",
       "    </tr>\n",
       "  </tbody>\n",
       "</table>\n",
       "</div>"
      ],
      "text/plain": [
       "             user  economy  social  culture  health\n",
       "0      sambahflex        0       0        1       0\n",
       "1         CoOwusu        0       0        0       0\n",
       "2        AshesiIX        0       0        0       0\n",
       "3      askrashida        0       0        0       0\n",
       "4  Ghanasoccernet        0       0        0       0\n",
       "5  TransformingGh        0       0       29       0\n",
       "6        KelOwusu        0       0        8       6\n",
       "7  fellowblackman        0       0        2       0\n",
       "8          kkdbod        1       0        2       1\n",
       "9     talentshype        0       0        0       0"
      ]
     },
     "execution_count": 216,
     "metadata": {},
     "output_type": "execute_result"
    }
   ],
   "source": [
    "dff = dataframe()\n",
    "dff.to_csv('ghanadata.csv', sep=',', index =False, encoding='utf-8')\n",
    "dff.head(10)\n"
   ]
  },
  {
   "cell_type": "code",
   "execution_count": 206,
   "metadata": {},
   "outputs": [],
   "source": [
    "X = dff.iloc[:,1:5]\n",
    "kmeans = KMeans(4)\n",
    "#kmeans.fit(X)"
   ]
  },
  {
   "cell_type": "code",
   "execution_count": 207,
   "metadata": {},
   "outputs": [
    {
     "data": {
      "text/plain": [
       "array([0, 0, 0, ..., 0, 0, 0])"
      ]
     },
     "execution_count": 207,
     "metadata": {},
     "output_type": "execute_result"
    }
   ],
   "source": [
    "identified_cluster = kmeans.fit_predict(X)\n",
    "identified_cluster"
   ]
  },
  {
   "cell_type": "code",
   "execution_count": 214,
   "metadata": {},
   "outputs": [
    {
     "data": {
      "image/png": "[encoded data removed]",
      "text/plain": [
       "<Figure size 432x288 with 2 Axes>"
      ]
     },
     "metadata": {},
     "output_type": "display_data"
    }
   ],
   "source": [
    "from mpl_toolkits.mplot3d import Axes3D\n",
    "data_wt_clusters = dff.copy()\n",
    "data_wt_clusters['clusters'] = identified_cluster\n",
    "fig =plt.figure()\n",
    "#ax = Axes3D(fig, rect=[0, 0, .95, 1], elev=48, azim=134)\n",
    "#ax = fig.add_subplot(111,projection='3d')\n",
    "ax = Axes3D(fig, rect=[1, 1, 1, 1], elev=48, azim=200)\n",
    "\n",
    "x = data_wt_clusters['economy']\n",
    "y = data_wt_clusters['social']\n",
    "z = data_wt_clusters['culture']\n",
    "c = data_wt_clusters['health']\n",
    "\n",
    "img = ax.scatter(x,y,z, c=c, cmap=plt.hot())\n",
    "fig.colorbar(img)\n",
    "plt.show()\n"
   ]
  },
  {
   "cell_type": "code",
   "execution_count": null,
   "metadata": {},
   "outputs": [],
   "source": []
  },
  {
   "cell_type": "markdown",
   "metadata": {},
   "source": [
    "Processing the data required many discrete step that required hard-coding at some points. The functions below were used to process the lists of friends to store them into a csv file as one. Once we have the complete csv file of uses, we really don't these functions anymore. I have left just in case I want to extend my input then I may just come back to them again. The major thing is to read and understand the key helper functions above and know what they return. You then decide how you want to manipulate the results returned to you. You also want to understand the input and consider the time it takes to fetch the data you want from twitter. with this in mind, you can run this code step by step to get the desired results."
   ]
  },
  {
   "cell_type": "code",
   "execution_count": null,
   "metadata": {},
   "outputs": [],
   "source": [
    "\n",
    "handset1 = set()\n",
    "handset2 = set()\n",
    "handset3 = set()"
   ]
  },
  {
   "cell_type": "code",
   "execution_count": 227,
   "metadata": {},
   "outputs": [],
   "source": [
    "\n",
    "handles = []\n",
    "def readfile():\n",
    "    with open('Top_ghanaians.csv', 'rt') as f:\n",
    "        f.readline()\n",
    "        csv_reader = csv.reader(f)\n",
    "        for line in csv_reader:\n",
    "            handles.append(line)         \n",
    "readfile()           "
   ]
  },
  {
   "cell_type": "code",
   "execution_count": 228,
   "metadata": {},
   "outputs": [],
   "source": [
    "for i in handles:\n",
    "    for j in i:\n",
    "        handset1.add(j)\n",
    "#handset2\n",
    "\n",
    "\n"
   ]
  },
  {
   "cell_type": "code",
   "execution_count": 246,
   "metadata": {},
   "outputs": [],
   "source": [
    "handset4 = set()\n",
    "userList = useList + list3 + list2\n",
    "for i in userList:\n",
    "    handset4.add(i)\n"
   ]
  },
  {
   "cell_type": "code",
   "execution_count": 250,
   "metadata": {},
   "outputs": [],
   "source": [
    "usrhandles = set.union(handset1, handset2, handset3,handset4)\n",
    "df = pd.DataFrame(usrhandles, columns = ['user_handles'])\n",
    "df.to_csv('Top_ghanaians_usrs.csv', sep=',', index =False, encoding='utf-8')"
   ]
  }
 ],
 "metadata": {
  "kernelspec": {
   "display_name": "Python 3",
   "language": "python",
   "name": "python3"
  },
  "language_info": {
   "codemirror_mode": {
    "name": "ipython",
    "version": 3
   },
   "file_extension": ".py",
   "mimetype": "text/x-python",
   "name": "python",
   "nbconvert_exporter": "python",
   "pygments_lexer": "ipython3",
   "version": "3.7.6"
  }
 },
 "nbformat": 4,
 "nbformat_minor": 4
}
